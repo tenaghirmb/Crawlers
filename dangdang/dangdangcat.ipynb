{
 "cells": [
  {
   "cell_type": "code",
   "execution_count": null,
   "metadata": {
    "collapsed": true
   },
   "outputs": [],
   "source": [
    "#encoding = utf-8\n",
    "from selenium import webdriver\n",
    "from bs4 import BeautifulSoup\n",
    "import pandas as pd\n",
    "import time\n",
    "import os"
   ]
  },
  {
   "cell_type": "code",
   "execution_count": null,
   "metadata": {
    "collapsed": false
   },
   "outputs": [],
   "source": [
    "def getsmallcat(url):\n",
    "    driver.get(url)\n",
    "    soupsmallcat = BeautifulSoup(driver.page_source,'lxml')\n",
    "    smallcat = soupsmallcat.select('.max')[0].select('a')\n",
    "    sc = pd.DataFrame({'title':'','link':''},index=[])\n",
    "    for c in smallcat:\n",
    "        sc = sc.append(pd.Series([c['title'],'http://category.dangdang.com'+c['href']],index=['title','link']),ignore_index=True)\n",
    "    return sc"
   ]
  },
  {
   "cell_type": "code",
   "execution_count": null,
   "metadata": {
    "collapsed": false
   },
   "outputs": [],
   "source": [
    "service_args = []\n",
    "service_args.append('--load-images=no')\n",
    "service_args.append('--disk-cache=yes')\n",
    "#service_args.append('--ignore-ssl-errors=true')\n",
    "driver = webdriver.PhantomJS(executable_path='C:\\\\Users\\\\TENAG\\\\Anaconda3\\\\phantomjs-2.1.1-windows\\\\bin\\\\phantomjs.exe',service_args=service_args)"
   ]
  },
  {
   "cell_type": "code",
   "execution_count": null,
   "metadata": {
    "collapsed": false
   },
   "outputs": [],
   "source": [
    "driver.get('http://category.dangdang.com/cp01.00.00.00.00.00.html')\n",
    "driver.find_element_by_id('openHide1').click()\n",
    "soup = BeautifulSoup(driver.page_source,'lxml')"
   ]
  },
  {
   "cell_type": "code",
   "execution_count": null,
   "metadata": {
    "collapsed": false
   },
   "outputs": [],
   "source": [
    "os.chdir('C:\\\\Users\\\\TENAG\\\\Documents\\\\GitHub\\\\dangdang\\\\图书分类')"
   ]
  },
  {
   "cell_type": "code",
   "execution_count": null,
   "metadata": {
    "collapsed": false
   },
   "outputs": [],
   "source": [
    "bigcat = soup.select('.t')\n",
    "bigcat.pop()\n",
    "urls = pd.DataFrame({'1':'','2':'','3':'','link':''},index=[])\n",
    "bc = pd.DataFrame({'title':'','link':''},index=[])\n",
    "for c in bigcat:\n",
    "    bc = bc.append(pd.Series([c['title'],'http://category.dangdang.com'+c['href']],index=['title','link']),ignore_index=True)\n",
    "    bc.to_excel('第一类别.xlsx')"
   ]
  },
  {
   "cell_type": "code",
   "execution_count": null,
   "metadata": {
    "collapsed": false
   },
   "outputs": [],
   "source": [
    "for i in range(len(bc)):\n",
    "    try:\n",
    "        t = getsmallcat(bc.at[i,'link'])\n",
    "        if os.path.isdir(str(i)+'-'+bc.at[i,'title']):\n",
    "            pass\n",
    "        else:\n",
    "            os.mkdir(str(i)+'-'+bc.at[i,'title'])\n",
    "        t.to_excel(str(i)+'-'+bc.at[i,'title']+'/第二类别.xlsx')\n",
    "        for j in range(len(t)):\n",
    "            try:\n",
    "                p = getsmallcat(t.at[j,'link'])\n",
    "                if os.path.isdir(str(i)+'-'+bc.at[i,'title']+'/'+str(j)+'-'+t.at[j,'title']):\n",
    "                    pass\n",
    "                else:\n",
    "                    os.mkdir(str(i)+'-'+bc.at[i,'title']+'/'+str(j)+'-'+t.at[j,'title'])\n",
    "                p.to_excel(str(i)+'-'+bc.at[i,'title']+'/'+str(j)+'-'+t.at[j,'title']+'/第三类别.xlsx')\n",
    "                for k in range(len(p)):\n",
    "                    urls = urls.append(pd.Series([str(i)+'-'+bc.at[i,'title'],str(j)+'-'+t.at[j,'title'],str(k)+'-'+p.at[k,'title'],p.at[k,'link']],index=['1','2','3','link']),ignore_index=True)\n",
    "            except:\n",
    "                urls = urls.append(pd.Series([str(i)+'-'+bc.at[i,'title'],str(j)+'-'+t.at[j,'title'],None,t.at[j,'link']],index=['1','2','3','link']),ignore_index=True)\n",
    "    except:\n",
    "        urls = urls.append(pd.Series([str(i)+'-'+bc.at[i,'title'],None,None,bc.at[i,'link']],index=['1','2','3','link']),ignore_index=True)"
   ]
  },
  {
   "cell_type": "code",
   "execution_count": null,
   "metadata": {
    "collapsed": false
   },
   "outputs": [],
   "source": [
    "driver.quit()"
   ]
  },
  {
   "cell_type": "code",
   "execution_count": null,
   "metadata": {
    "collapsed": true
   },
   "outputs": [],
   "source": [
    "urls.to_excel('C:/Users/TENAG/Documents/GitHub/dangdang/分类总表.xlsx')"
   ]
  }
 ],
 "metadata": {
  "anaconda-cloud": {},
  "kernelspec": {
   "display_name": "Python 3",
   "language": "python",
   "name": "python3"
  },
  "language_info": {
   "codemirror_mode": {
    "name": "ipython",
    "version": 3
   },
   "file_extension": ".py",
   "mimetype": "text/x-python",
   "name": "python",
   "nbconvert_exporter": "python",
   "pygments_lexer": "ipython3",
   "version": "3.6.0"
  }
 },
 "nbformat": 4,
 "nbformat_minor": 1
}
