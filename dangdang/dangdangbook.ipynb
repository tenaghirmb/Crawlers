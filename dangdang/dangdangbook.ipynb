{
 "cells": [
  {
   "cell_type": "code",
   "execution_count": null,
   "metadata": {
    "collapsed": true
   },
   "outputs": [],
   "source": [
    "#encoding = utf-8\n",
    "from selenium import webdriver\n",
    "from bs4 import BeautifulSoup\n",
    "import pandas as pd\n",
    "import time"
   ]
  },
  {
   "cell_type": "code",
   "execution_count": null,
   "metadata": {
    "collapsed": true
   },
   "outputs": [],
   "source": [
    "def getbook(url):\n",
    "    driver.get(url)\n",
    "    soupbook = BeautifulSoup(driver.page_source,'lxml')\n",
    "    book = soupbook.select('.line1')[-1].select('.name')[0].select('a')[0]\n",
    "    booklink = book['href']\n",
    "    booktitle = book['title']\n",
    "    return {'booklink':booklink,'booktitle':booktitle}"
   ]
  },
  {
   "cell_type": "code",
   "execution_count": null,
   "metadata": {
    "collapsed": true
   },
   "outputs": [],
   "source": [
    "service_args = []\n",
    "service_args.append('--load-images=no')\n",
    "service_args.append('--disk-cache=yes')\n",
    "#service_args.append('--ignore-ssl-errors=true')\n",
    "driver = webdriver.PhantomJS(executable_path='C:\\\\Users\\\\TENAG\\\\Anaconda3\\\\phantomjs-2.1.1-windows\\\\bin\\\\phantomjs.exe',service_args=service_args)"
   ]
  },
  {
   "cell_type": "code",
   "execution_count": null,
   "metadata": {
    "collapsed": false
   },
   "outputs": [],
   "source": [
    "urls = pd.read_excel('C:/Users/TENAG/Documents/GitHub/dangdang/分类总表.xlsx')"
   ]
  },
  {
   "cell_type": "code",
   "execution_count": null,
   "metadata": {
    "collapsed": false,
    "scrolled": true
   },
   "outputs": [],
   "source": [
    "for i in range(4770,len(urls)):\n",
    "    if(i%150==0):\n",
    "        time.sleep(15)\n",
    "    if(i%400==0):\n",
    "        driver.quit()\n",
    "        time.sleep(30)\n",
    "        driver = webdriver.PhantomJS(executable_path='C:\\\\Users\\\\TENAG\\\\Anaconda3\\\\phantomjs-2.1.1-windows\\\\bin\\\\phantomjs.exe',service_args=service_args)\n",
    "    url = urls.at[i,'link']\n",
    "    book = getbook(url)\n",
    "    urls.at[i,'bookname'] = book['booktitle']\n",
    "    urls.at[i,'booklink'] = book['booklink']\n",
    "    print(str(i)+'-完成')"
   ]
  },
  {
   "cell_type": "code",
   "execution_count": null,
   "metadata": {
    "collapsed": false
   },
   "outputs": [],
   "source": [
    "urls.to_excel('C:/Users/TENAG/Documents/GitHub/dangdang/分类总表.xlsx')\n",
    "driver.quit()"
   ]
  }
 ],
 "metadata": {
  "anaconda-cloud": {},
  "kernelspec": {
   "display_name": "Python 3",
   "language": "python",
   "name": "python3"
  },
  "language_info": {
   "codemirror_mode": {
    "name": "ipython",
    "version": 3
   },
   "file_extension": ".py",
   "mimetype": "text/x-python",
   "name": "python",
   "nbconvert_exporter": "python",
   "pygments_lexer": "ipython3",
   "version": "3.6.0"
  }
 },
 "nbformat": 4,
 "nbformat_minor": 1
}
