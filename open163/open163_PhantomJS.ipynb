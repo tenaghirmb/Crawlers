{
 "cells": [
  {
   "cell_type": "code",
   "execution_count": null,
   "metadata": {
    "collapsed": false
   },
   "outputs": [],
   "source": [
    "#encoding = utf-8\n",
    "from selenium import webdriver\n",
    "from bs4 import BeautifulSoup\n",
    "import pymysql\n",
    "import time"
   ]
  },
  {
   "cell_type": "code",
   "execution_count": null,
   "metadata": {
    "collapsed": true
   },
   "outputs": [],
   "source": [
    "driver = webdriver.PhantomJS(executable_path='C:\\\\Users\\\\TENAG\\\\Anaconda3\\\\phantomjs-2.1.1-windows\\\\bin\\\\phantomjs.exe')"
   ]
  },
  {
   "cell_type": "code",
   "execution_count": null,
   "metadata": {
    "collapsed": true
   },
   "outputs": [],
   "source": [
    "def parse(src):\n",
    "    soup = BeautifulSoup(src,'lxml')\n",
    "    cnt = soup.select('.cnt')\n",
    "    for c in cnt:\n",
    "        title = c.select('img')[0]['alt']\n",
    "        image = c.select('img')[0]['src']\n",
    "        desc = c.select('.f-c9')[-1].text\n",
    "        link = c.select('.img')[0]['href']\n",
    "        school = c.select('p')[1].select('span')[-1].text\n",
    "        teacher = c.select('p')[2].select('span')[-1].text\n",
    "        episodes = c.select('p')[3].select('span')[-1].text\n",
    "        category = c.select('p')[4].select('span')[1].text\n",
    "        print(title)"
   ]
  },
  {
   "cell_type": "code",
   "execution_count": null,
   "metadata": {
    "collapsed": true
   },
   "outputs": [],
   "source": [
    "def pagedown():\n",
    "    driver.find_element_by_class_name('znxt').click()\n",
    "    time.sleep(1.5)"
   ]
  },
  {
   "cell_type": "code",
   "execution_count": null,
   "metadata": {
    "collapsed": false,
    "scrolled": true
   },
   "outputs": [],
   "source": [
    "def crawl(CATEGORY):\n",
    "    driver.get(\"http://c.open.163.com/search/search.htm#/search/course?ca=\"+CATEGORY+\"&sj=&sh=\")\n",
    "    while True:\n",
    "        parse(driver.page_source)\n",
    "        pagedown()\n",
    "        if len(BeautifulSoup(driver.page_source,'lxml').select('.js-disabled')):\n",
    "            parse(driver.page_source)\n",
    "            break"
   ]
  },
  {
   "cell_type": "code",
   "execution_count": null,
   "metadata": {
    "collapsed": false,
    "scrolled": true
   },
   "outputs": [],
   "source": [
    "crawl(\"TED\")"
   ]
  }
 ],
 "metadata": {
  "anaconda-cloud": {},
  "kernelspec": {
   "display_name": "Python 3",
   "language": "python",
   "name": "python3"
  },
  "language_info": {
   "codemirror_mode": {
    "name": "ipython",
    "version": 3
   },
   "file_extension": ".py",
   "mimetype": "text/x-python",
   "name": "python",
   "nbconvert_exporter": "python",
   "pygments_lexer": "ipython3",
   "version": "3.6.0"
  }
 },
 "nbformat": 4,
 "nbformat_minor": 0
}
