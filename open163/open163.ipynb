{
 "cells": [
  {
   "cell_type": "code",
   "execution_count": null,
   "metadata": {
    "collapsed": true
   },
   "outputs": [],
   "source": [
    "#encoding = utf-8\n",
    "import requests\n",
    "from requests.exceptions import ConnectionError\n",
    "import re\n",
    "import pandas as pd"
   ]
  },
  {
   "cell_type": "code",
   "execution_count": null,
   "metadata": {
    "collapsed": false
   },
   "outputs": [],
   "source": [
    "def get_course_info(page_number):\n",
    "    try:\n",
    "        base = 'http://c.open.163.com/dwr/call/plaincall/OpenSearchBean.searchCourse.dwr'\n",
    "        payload = {\n",
    "            'callCount':'1',\n",
    "            'scriptSessionId':'${scriptSessionId}190',\n",
    "            'httpSessionId':'e1359886ba9c4cfdaa2973d432aa6e89',\n",
    "            'c0-scriptName':'OpenSearchBean',\n",
    "            'c0-methodName':'searchCourse',\n",
    "            'c0-id':'0',\n",
    "            'c0-param0':'string:',\n",
    "            'c0-param1':'number:'+str(page_number),\n",
    "            'c0-param2':'number:20',\n",
    "            'batchId':'1489238835634'\n",
    "        }\n",
    "        dwr = requests.post(base,data=payload)\n",
    "        if dwr.status_code == 200:\n",
    "            return dwr.text\n",
    "        else:\n",
    "            return None\n",
    "    except ConnectionError:\n",
    "        print('获取课程页面失败！')\n",
    "        return None"
   ]
  },
  {
   "cell_type": "code",
   "execution_count": null,
   "metadata": {
    "collapsed": true
   },
   "outputs": [],
   "source": [
    "def parse_course_info(dwr):\n",
    "    course_pattern = re.compile(r's1\\[19\\]=s21;(.*)dwr.engine._remoteHandleCallback',re.S)\n",
    "    courses = re.search(course_pattern,dwr)\n",
    "    if courses:\n",
    "        course_temp = courses.group(1).strip()\n",
    "        course_list = course_temp.split('\\n')\n",
    "        return course_list\n",
    "    else:\n",
    "        print('解析课程页面出错！')\n",
    "        return None"
   ]
  },
  {
   "cell_type": "code",
   "execution_count": null,
   "metadata": {
    "collapsed": true
   },
   "outputs": [],
   "source": [
    "def parse_course_list(clist):\n",
    "    course_table = pd.DataFrame({\"bigPicUrl\":\"\",\"category\":\"\",\"courseId\":\"\",\"courseType\":\"\",\"courseUrl\":\"\",\"description\":\"\",\"instructor\":\"\",\"movieCount\":\"\",\"picUrl\":\"\",\"school\":\"\",\"startTime\":\"\",\"subject\":\"\",\"tags\":\"\",\"title\":\"\"},index=[])\n",
    "    for i in range(len(clist)):\n",
    "        bigPicUrl = re.search('bigPicUrl=(.*?);',clist[i]).group(1).strip('\"')\n",
    "        category = re.search('category=(.*?);',clist[i]).group(1).strip('\"').encode('utf-8').decode('unicode_escape')\n",
    "        courseId = re.search('courseId=(.*?);',clist[i]).group(1).strip('\"')\n",
    "        courseType = re.search('courseType=(.*?);',clist[i]).group(1).strip('\"')\n",
    "        courseUrl = re.search('courseUrl=(.*?);',clist[i]).group(1).strip('\"')\n",
    "        description = re.search('description=(.*?);',clist[i]).group(1).strip('\"').encode('utf-8').decode('unicode_escape')\n",
    "        instructor = re.search('instructor=(.*?);',clist[i]).group(1).strip('\"').encode('utf-8').decode('unicode_escape')\n",
    "        movieCount = re.search('movieCount=(.*?);',clist[i]).group(1).strip('\"')\n",
    "        picUrl = re.search('picUrl=(.*?);',clist[i]).group(1).strip('\"')\n",
    "        school = re.search('school=(.*?);',clist[i]).group(1).strip('\"').encode('utf-8').decode('unicode_escape')\n",
    "        startTime = re.search('startTime=(.*?);',clist[i]).group(1).strip('\"').encode('utf-8').decode('unicode_escape')\n",
    "        subject = re.search('subject=(.*?);',clist[i]).group(1).strip('\"').encode('utf-8').decode('unicode_escape')\n",
    "        tags = re.search('tags=(.*?);',clist[i]).group(1).strip('\"').encode('utf-8').decode('unicode_escape')\n",
    "        title = re.search('title=(.*?);',clist[i]).group(1).strip('\"').encode('utf-8').decode('unicode_escape')\n",
    "        course_table = course_table.append({'bigPicUrl':bigPicUrl,'category':category,'courseId':courseId,'courseType':courseType,'courseUrl':courseUrl,'description':description,'instructor':instructor,'movieCount':movieCount,'picUrl':picUrl,'school':school,'startTime':startTime,'subject':subject,'tags':tags,'title':title},ignore_index=True)\n",
    "    return course_table"
   ]
  },
  {
   "cell_type": "code",
   "execution_count": null,
   "metadata": {
    "collapsed": true
   },
   "outputs": [],
   "source": [
    "def main():\n",
    "    course_table = pd.DataFrame({\"bigPicUrl\":\"\",\"category\":\"\",\"courseId\":\"\",\"courseType\":\"\",\"courseUrl\":\"\",\"description\":\"\",\"instructor\":\"\",\"movieCount\":\"\",\"picUrl\":\"\",\"school\":\"\",\"startTime\":\"\",\"subject\":\"\",\"tags\":\"\",\"title\":\"\"},index=[])\n",
    "    for i in range(250):\n",
    "        dwr = get_course_info(i)\n",
    "        clist = parse_course_info(dwr)\n",
    "        course_temp = parse_course_list(clist)\n",
    "        course_table = pd.merge(course_table,course_temp,how='outer')\n",
    "    course_table.to_excel('课程信息.xlsx')"
   ]
  },
  {
   "cell_type": "code",
   "execution_count": null,
   "metadata": {
    "collapsed": false,
    "scrolled": true
   },
   "outputs": [],
   "source": [
    "if __name__=='__main__':\n",
    "    main()"
   ]
  }
 ],
 "metadata": {
  "anaconda-cloud": {},
  "kernelspec": {
   "display_name": "Python 3",
   "language": "python",
   "name": "python3"
  },
  "language_info": {
   "codemirror_mode": {
    "name": "ipython",
    "version": 3
   },
   "file_extension": ".py",
   "mimetype": "text/x-python",
   "name": "python",
   "nbconvert_exporter": "python",
   "pygments_lexer": "ipython3",
   "version": "3.6.0"
  }
 },
 "nbformat": 4,
 "nbformat_minor": 1
}
